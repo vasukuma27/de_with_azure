{
 "cells": [
  {
   "cell_type": "markdown",
   "id": "ff5af602",
   "metadata": {},
   "source": [
    "# NoSQL - Not Only SQL"
   ]
  },
  {
   "cell_type": "markdown",
   "id": "df87e251",
   "metadata": {},
   "source": [
    "### When to Use NoSQL:\n",
    "- **Need high Availability in the data:** Indicates the system is always up and there is no downtime\n",
    "- **Have Large Amounts of Data**\n",
    "- **Need Linear Scalability:** The need to add more nodes to the system so performance will increase linearly\n",
    "- **Low Latency:** Shorter delay before the data is transferred once the instruction for the transfer has been received.\n",
    "- **Need fast reads and write**"
   ]
  },
  {
   "cell_type": "markdown",
   "id": "24d8ba6a",
   "metadata": {},
   "source": [
    "### Eventual Consistency:\n",
    "Over time (if no new changes are made) each copy of the data will be the same, but if there are new changes, the data may be different in different locations. The data may be inconsistent for only milliseconds. There are workarounds in place to prevent getting stale data."
   ]
  },
  {
   "cell_type": "markdown",
   "id": "a5eec67a",
   "metadata": {},
   "source": [
    "### CAP Theorem:\n",
    "- **Consistency:** Every read from the database gets the latest (and correct) piece of data or an error\n",
    "\n",
    "- **Availability:** Every request is received and a response is given -- without a guarantee that the data is the latest update\n",
    "\n",
    "- **Partition Tolerance:** The system continues to work regardless of losing network connectivity between nodes"
   ]
  },
  {
   "cell_type": "markdown",
   "id": "7c0fe9da",
   "metadata": {},
   "source": [
    "### Denormalization in Apache Cassandra\n",
    "\n",
    "- Think about queries first.\n",
    "- There are no JOINS in Apache Cassandra"
   ]
  },
  {
   "cell_type": "markdown",
   "id": "b3db2de8",
   "metadata": {},
   "source": [
    "### Data Modeling in Apache Cassandra:\n",
    "- Denormalization is not just okay -- it's a must\n",
    "- Denormalization must be done for fast reads\n",
    "- Apache Cassandra has been optimized for fast writes\n",
    "- ALWAYS think Queries first\n",
    "- One table per query is a great strategy\n",
    "- Apache Cassandra does not allow for JOINs between tables"
   ]
  },
  {
   "cell_type": "markdown",
   "id": "2c304302",
   "metadata": {},
   "source": [
    "### Cassandra QUery Language: CQL"
   ]
  }
 ],
 "metadata": {
  "kernelspec": {
   "display_name": "Python 3 (ipykernel)",
   "language": "python",
   "name": "python3"
  },
  "language_info": {
   "codemirror_mode": {
    "name": "ipython",
    "version": 3
   },
   "file_extension": ".py",
   "mimetype": "text/x-python",
   "name": "python",
   "nbconvert_exporter": "python",
   "pygments_lexer": "ipython3",
   "version": "3.9.13"
  }
 },
 "nbformat": 4,
 "nbformat_minor": 5
}
